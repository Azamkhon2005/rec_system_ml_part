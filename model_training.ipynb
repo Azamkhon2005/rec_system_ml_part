{
 "cells": [
  {
   "cell_type": "code",
   "execution_count": 76,
   "id": "eac44209",
   "metadata": {},
   "outputs": [],
   "source": [
    "# импортирование библиотек\n",
    "import pandas as pd\n",
    "import seaborn as sns\n",
    "import numpy as np\n",
    "import os\n",
    "import matplotlib.pyplot as plt\n",
    "from sklearn.preprocessing import LabelEncoder\n",
    "from sklearn.model_selection import train_test_split\n",
    "from sklearn import preprocessing\n",
    "from sklearn.model_selection import KFold, GridSearchCV\n",
    "from sklearn.metrics import accuracy_score"
   ]
  },
  {
   "cell_type": "code",
   "execution_count": 77,
   "id": "131e200c",
   "metadata": {},
   "outputs": [],
   "source": [
    "data = pd.read_csv('train_data.csv')"
   ]
  },
  {
   "cell_type": "code",
   "execution_count": 78,
   "id": "6b351994",
   "metadata": {},
   "outputs": [
    {
     "data": {
      "text/html": [
       "<div>\n",
       "<style scoped>\n",
       "    .dataframe tbody tr th:only-of-type {\n",
       "        vertical-align: middle;\n",
       "    }\n",
       "\n",
       "    .dataframe tbody tr th {\n",
       "        vertical-align: top;\n",
       "    }\n",
       "\n",
       "    .dataframe thead th {\n",
       "        text-align: right;\n",
       "    }\n",
       "</style>\n",
       "<table border=\"1\" class=\"dataframe\">\n",
       "  <thead>\n",
       "    <tr style=\"text-align: right;\">\n",
       "      <th></th>\n",
       "      <th>cost</th>\n",
       "      <th>level_1_1</th>\n",
       "      <th>level_1_2</th>\n",
       "      <th>level_1_3</th>\n",
       "      <th>level_2_1</th>\n",
       "      <th>level_2_2</th>\n",
       "      <th>region</th>\n",
       "      <th>is_44</th>\n",
       "      <th>title_vector_0</th>\n",
       "      <th>title_vector_1</th>\n",
       "      <th>...</th>\n",
       "      <th>title_vector_11</th>\n",
       "      <th>title_vector_12</th>\n",
       "      <th>title_vector_13</th>\n",
       "      <th>title_vector_14</th>\n",
       "      <th>title_vector_15</th>\n",
       "      <th>title_vector_16</th>\n",
       "      <th>title_vector_17</th>\n",
       "      <th>title_vector_18</th>\n",
       "      <th>title_vector_19</th>\n",
       "      <th>supplier_id</th>\n",
       "    </tr>\n",
       "  </thead>\n",
       "  <tbody>\n",
       "    <tr>\n",
       "      <th>0</th>\n",
       "      <td>6710121.0</td>\n",
       "      <td>1</td>\n",
       "      <td>0</td>\n",
       "      <td>0</td>\n",
       "      <td>0</td>\n",
       "      <td>0</td>\n",
       "      <td>60</td>\n",
       "      <td>1</td>\n",
       "      <td>0.321117</td>\n",
       "      <td>-0.317464</td>\n",
       "      <td>...</td>\n",
       "      <td>-0.304298</td>\n",
       "      <td>-0.168377</td>\n",
       "      <td>0.104410</td>\n",
       "      <td>0.252260</td>\n",
       "      <td>0.154310</td>\n",
       "      <td>-0.331585</td>\n",
       "      <td>0.287732</td>\n",
       "      <td>-0.602622</td>\n",
       "      <td>-0.652956</td>\n",
       "      <td>44</td>\n",
       "    </tr>\n",
       "    <tr>\n",
       "      <th>1</th>\n",
       "      <td>5395.0</td>\n",
       "      <td>0</td>\n",
       "      <td>0</td>\n",
       "      <td>1</td>\n",
       "      <td>0</td>\n",
       "      <td>1</td>\n",
       "      <td>51</td>\n",
       "      <td>1</td>\n",
       "      <td>0.079101</td>\n",
       "      <td>0.098359</td>\n",
       "      <td>...</td>\n",
       "      <td>0.004997</td>\n",
       "      <td>0.353382</td>\n",
       "      <td>0.356620</td>\n",
       "      <td>0.149338</td>\n",
       "      <td>-0.058060</td>\n",
       "      <td>0.163763</td>\n",
       "      <td>-0.139090</td>\n",
       "      <td>-0.152761</td>\n",
       "      <td>-0.176053</td>\n",
       "      <td>9</td>\n",
       "    </tr>\n",
       "    <tr>\n",
       "      <th>2</th>\n",
       "      <td>34330.0</td>\n",
       "      <td>0</td>\n",
       "      <td>0</td>\n",
       "      <td>1</td>\n",
       "      <td>0</td>\n",
       "      <td>1</td>\n",
       "      <td>9</td>\n",
       "      <td>0</td>\n",
       "      <td>0.083967</td>\n",
       "      <td>-0.029964</td>\n",
       "      <td>...</td>\n",
       "      <td>-0.168681</td>\n",
       "      <td>-0.023522</td>\n",
       "      <td>-0.110543</td>\n",
       "      <td>0.171777</td>\n",
       "      <td>0.005388</td>\n",
       "      <td>0.211797</td>\n",
       "      <td>-0.049800</td>\n",
       "      <td>-0.231361</td>\n",
       "      <td>0.127630</td>\n",
       "      <td>52</td>\n",
       "    </tr>\n",
       "    <tr>\n",
       "      <th>3</th>\n",
       "      <td>1200000.0</td>\n",
       "      <td>1</td>\n",
       "      <td>0</td>\n",
       "      <td>0</td>\n",
       "      <td>0</td>\n",
       "      <td>0</td>\n",
       "      <td>46</td>\n",
       "      <td>1</td>\n",
       "      <td>0.130799</td>\n",
       "      <td>0.020342</td>\n",
       "      <td>...</td>\n",
       "      <td>-0.162256</td>\n",
       "      <td>0.151090</td>\n",
       "      <td>-0.113475</td>\n",
       "      <td>0.215033</td>\n",
       "      <td>0.280156</td>\n",
       "      <td>0.271204</td>\n",
       "      <td>-0.001403</td>\n",
       "      <td>-0.094558</td>\n",
       "      <td>-0.171027</td>\n",
       "      <td>5</td>\n",
       "    </tr>\n",
       "    <tr>\n",
       "      <th>4</th>\n",
       "      <td>1144000.0</td>\n",
       "      <td>1</td>\n",
       "      <td>0</td>\n",
       "      <td>0</td>\n",
       "      <td>0</td>\n",
       "      <td>0</td>\n",
       "      <td>45</td>\n",
       "      <td>1</td>\n",
       "      <td>-0.019896</td>\n",
       "      <td>-0.080144</td>\n",
       "      <td>...</td>\n",
       "      <td>-0.143452</td>\n",
       "      <td>0.270669</td>\n",
       "      <td>-0.095452</td>\n",
       "      <td>0.190687</td>\n",
       "      <td>0.180496</td>\n",
       "      <td>0.242237</td>\n",
       "      <td>0.012682</td>\n",
       "      <td>-0.176461</td>\n",
       "      <td>-0.009448</td>\n",
       "      <td>143</td>\n",
       "    </tr>\n",
       "  </tbody>\n",
       "</table>\n",
       "<p>5 rows × 29 columns</p>\n",
       "</div>"
      ],
      "text/plain": [
       "        cost  level_1_1  level_1_2  level_1_3  level_2_1  level_2_2  region  \\\n",
       "0  6710121.0          1          0          0          0          0      60   \n",
       "1     5395.0          0          0          1          0          1      51   \n",
       "2    34330.0          0          0          1          0          1       9   \n",
       "3  1200000.0          1          0          0          0          0      46   \n",
       "4  1144000.0          1          0          0          0          0      45   \n",
       "\n",
       "   is_44  title_vector_0  title_vector_1  ...  title_vector_11  \\\n",
       "0      1        0.321117       -0.317464  ...        -0.304298   \n",
       "1      1        0.079101        0.098359  ...         0.004997   \n",
       "2      0        0.083967       -0.029964  ...        -0.168681   \n",
       "3      1        0.130799        0.020342  ...        -0.162256   \n",
       "4      1       -0.019896       -0.080144  ...        -0.143452   \n",
       "\n",
       "   title_vector_12  title_vector_13  title_vector_14  title_vector_15  \\\n",
       "0        -0.168377         0.104410         0.252260         0.154310   \n",
       "1         0.353382         0.356620         0.149338        -0.058060   \n",
       "2        -0.023522        -0.110543         0.171777         0.005388   \n",
       "3         0.151090        -0.113475         0.215033         0.280156   \n",
       "4         0.270669        -0.095452         0.190687         0.180496   \n",
       "\n",
       "   title_vector_16  title_vector_17  title_vector_18  title_vector_19  \\\n",
       "0        -0.331585         0.287732        -0.602622        -0.652956   \n",
       "1         0.163763        -0.139090        -0.152761        -0.176053   \n",
       "2         0.211797        -0.049800        -0.231361         0.127630   \n",
       "3         0.271204        -0.001403        -0.094558        -0.171027   \n",
       "4         0.242237         0.012682        -0.176461        -0.009448   \n",
       "\n",
       "   supplier_id  \n",
       "0           44  \n",
       "1            9  \n",
       "2           52  \n",
       "3            5  \n",
       "4          143  \n",
       "\n",
       "[5 rows x 29 columns]"
      ]
     },
     "execution_count": 78,
     "metadata": {},
     "output_type": "execute_result"
    }
   ],
   "source": [
    "data.drop('Unnamed: 0', axis = 1, inplace = True)\n",
    "data.head()"
   ]
  },
  {
   "cell_type": "code",
   "execution_count": 79,
   "id": "78f5d99c",
   "metadata": {},
   "outputs": [],
   "source": [
    "X = data.drop('supplier_id', axis = 1)\n",
    "y = data['supplier_id']"
   ]
  },
  {
   "cell_type": "code",
   "execution_count": 80,
   "id": "73d942de",
   "metadata": {},
   "outputs": [],
   "source": [
    "from sklearn.model_selection import train_test_split\n",
    "x_train, x_test, y_train, y_test = train_test_split(\n",
    "    X, y, test_size=0.2, random_state=42)"
   ]
  },
  {
   "cell_type": "code",
   "execution_count": 81,
   "id": "76c2c826",
   "metadata": {},
   "outputs": [],
   "source": [
    "from catboost import CatBoostClassifier"
   ]
  },
  {
   "cell_type": "code",
   "execution_count": 82,
   "id": "6eb494e7",
   "metadata": {},
   "outputs": [
    {
     "data": {
      "text/plain": [
       "<catboost.core.CatBoostClassifier at 0x24c26c04b20>"
      ]
     },
     "execution_count": 82,
     "metadata": {},
     "output_type": "execute_result"
    }
   ],
   "source": [
    "model = CatBoostClassifier(\n",
    "    loss_function='MultiClass',  # Use 'MultiClass' for multiclass classification\n",
    "    verbose=False,  # Set to True to see training logs\n",
    "    random_state=42,)\n",
    "model.fit(\n",
    "        x_train, y_train,\n",
    "        eval_set=(x_test, y_test),\n",
    "        early_stopping_rounds=10,\n",
    "        verbose=False,\n",
    "        \n",
    "    )"
   ]
  },
  {
   "cell_type": "code",
   "execution_count": 71,
   "id": "7259b279",
   "metadata": {},
   "outputs": [],
   "source": [
    "y_pred = model.predict(x_test)"
   ]
  },
  {
   "cell_type": "code",
   "execution_count": 72,
   "id": "2b8b72c2",
   "metadata": {},
   "outputs": [
    {
     "data": {
      "text/plain": [
       "0.2725540025412961"
      ]
     },
     "execution_count": 72,
     "metadata": {},
     "output_type": "execute_result"
    }
   ],
   "source": [
    "# точность модели\n",
    "from sklearn.metrics import accuracy_score\n",
    "accuracy_score(y_pred, y_test)"
   ]
  },
  {
   "cell_type": "code",
   "execution_count": 73,
   "id": "b2d0c16a",
   "metadata": {},
   "outputs": [],
   "source": [
    "def score(x_test, y_test, model):\n",
    "    count = 0\n",
    "    for i in range(len(x_test)):\n",
    "        x = pd.Series(model.predict_proba(x_test.values[i])).sort_values(ascending=False).head(5).index\n",
    "        if y_test.values[i] in x:\n",
    "            count += 1\n",
    "    return count/len(y_test)"
   ]
  },
  {
   "cell_type": "code",
   "execution_count": 74,
   "id": "829ebaff",
   "metadata": {},
   "outputs": [
    {
     "data": {
      "text/plain": [
       "0.5546378653113088"
      ]
     },
     "execution_count": 74,
     "metadata": {},
     "output_type": "execute_result"
    }
   ],
   "source": [
    "# точность того, что поставщик из тестовой выборки попадет в топ 5 рекомендованных поставщиков \n",
    "score(x_test, y_test, model)"
   ]
  },
  {
   "cell_type": "code",
   "execution_count": 11,
   "id": "72ad1738",
   "metadata": {},
   "outputs": [],
   "source": [
    "# сохранение модели \n",
    "model.save_model('rec_model')"
   ]
  }
 ],
 "metadata": {
  "kernelspec": {
   "display_name": "Python 3 (ipykernel)",
   "language": "python",
   "name": "python3"
  },
  "language_info": {
   "codemirror_mode": {
    "name": "ipython",
    "version": 3
   },
   "file_extension": ".py",
   "mimetype": "text/x-python",
   "name": "python",
   "nbconvert_exporter": "python",
   "pygments_lexer": "ipython3",
   "version": "3.10.8"
  }
 },
 "nbformat": 4,
 "nbformat_minor": 5
}
